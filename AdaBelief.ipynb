{
  "nbformat": 4,
  "nbformat_minor": 0,
  "metadata": {
    "colab": {
      "provenance": []
    },
    "kernelspec": {
      "name": "python3",
      "display_name": "Python 3"
    },
    "language_info": {
      "name": "python"
    }
  },
  "cells": [
    {
      "cell_type": "code",
      "execution_count": 1,
      "metadata": {
        "colab": {
          "base_uri": "https://localhost:8080/"
        },
        "id": "32eMSkko5rSW",
        "outputId": "1ccd40c0-3f32-49c7-fdd7-b962c049d30a"
      },
      "outputs": [
        {
          "output_type": "stream",
          "name": "stdout",
          "text": [
            "Found existing installation: tensorflow 2.18.0\n",
            "Uninstalling tensorflow-2.18.0:\n",
            "  Successfully uninstalled tensorflow-2.18.0\n",
            "Collecting tensorflow==2.15.0\n",
            "  Downloading tensorflow-2.15.0-cp311-cp311-manylinux_2_17_x86_64.manylinux2014_x86_64.whl.metadata (4.4 kB)\n",
            "Requirement already satisfied: absl-py>=1.0.0 in /usr/local/lib/python3.11/dist-packages (from tensorflow==2.15.0) (1.4.0)\n",
            "Requirement already satisfied: astunparse>=1.6.0 in /usr/local/lib/python3.11/dist-packages (from tensorflow==2.15.0) (1.6.3)\n",
            "Requirement already satisfied: flatbuffers>=23.5.26 in /usr/local/lib/python3.11/dist-packages (from tensorflow==2.15.0) (25.2.10)\n",
            "Requirement already satisfied: gast!=0.5.0,!=0.5.1,!=0.5.2,>=0.2.1 in /usr/local/lib/python3.11/dist-packages (from tensorflow==2.15.0) (0.6.0)\n",
            "Requirement already satisfied: google-pasta>=0.1.1 in /usr/local/lib/python3.11/dist-packages (from tensorflow==2.15.0) (0.2.0)\n",
            "Requirement already satisfied: h5py>=2.9.0 in /usr/local/lib/python3.11/dist-packages (from tensorflow==2.15.0) (3.12.1)\n",
            "Requirement already satisfied: libclang>=13.0.0 in /usr/local/lib/python3.11/dist-packages (from tensorflow==2.15.0) (18.1.1)\n",
            "Collecting ml-dtypes~=0.2.0 (from tensorflow==2.15.0)\n",
            "  Downloading ml_dtypes-0.2.0-cp311-cp311-manylinux_2_17_x86_64.manylinux2014_x86_64.whl.metadata (20 kB)\n",
            "Requirement already satisfied: numpy<2.0.0,>=1.23.5 in /usr/local/lib/python3.11/dist-packages (from tensorflow==2.15.0) (1.26.4)\n",
            "Requirement already satisfied: opt-einsum>=2.3.2 in /usr/local/lib/python3.11/dist-packages (from tensorflow==2.15.0) (3.4.0)\n",
            "Requirement already satisfied: packaging in /usr/local/lib/python3.11/dist-packages (from tensorflow==2.15.0) (24.2)\n",
            "Requirement already satisfied: protobuf!=4.21.0,!=4.21.1,!=4.21.2,!=4.21.3,!=4.21.4,!=4.21.5,<5.0.0dev,>=3.20.3 in /usr/local/lib/python3.11/dist-packages (from tensorflow==2.15.0) (4.25.6)\n",
            "Requirement already satisfied: setuptools in /usr/local/lib/python3.11/dist-packages (from tensorflow==2.15.0) (75.1.0)\n",
            "Requirement already satisfied: six>=1.12.0 in /usr/local/lib/python3.11/dist-packages (from tensorflow==2.15.0) (1.17.0)\n",
            "Requirement already satisfied: termcolor>=1.1.0 in /usr/local/lib/python3.11/dist-packages (from tensorflow==2.15.0) (2.5.0)\n",
            "Requirement already satisfied: typing-extensions>=3.6.6 in /usr/local/lib/python3.11/dist-packages (from tensorflow==2.15.0) (4.12.2)\n",
            "Collecting wrapt<1.15,>=1.11.0 (from tensorflow==2.15.0)\n",
            "  Downloading wrapt-1.14.1-cp311-cp311-manylinux_2_5_x86_64.manylinux1_x86_64.manylinux_2_17_x86_64.manylinux2014_x86_64.whl.metadata (6.7 kB)\n",
            "Requirement already satisfied: tensorflow-io-gcs-filesystem>=0.23.1 in /usr/local/lib/python3.11/dist-packages (from tensorflow==2.15.0) (0.37.1)\n",
            "Requirement already satisfied: grpcio<2.0,>=1.24.3 in /usr/local/lib/python3.11/dist-packages (from tensorflow==2.15.0) (1.71.0)\n",
            "Collecting tensorboard<2.16,>=2.15 (from tensorflow==2.15.0)\n",
            "  Downloading tensorboard-2.15.2-py3-none-any.whl.metadata (1.7 kB)\n",
            "Collecting tensorflow-estimator<2.16,>=2.15.0 (from tensorflow==2.15.0)\n",
            "  Downloading tensorflow_estimator-2.15.0-py2.py3-none-any.whl.metadata (1.3 kB)\n",
            "Collecting keras<2.16,>=2.15.0 (from tensorflow==2.15.0)\n",
            "  Downloading keras-2.15.0-py3-none-any.whl.metadata (2.4 kB)\n",
            "Requirement already satisfied: wheel<1.0,>=0.23.0 in /usr/local/lib/python3.11/dist-packages (from astunparse>=1.6.0->tensorflow==2.15.0) (0.45.1)\n",
            "Requirement already satisfied: google-auth<3,>=1.6.3 in /usr/local/lib/python3.11/dist-packages (from tensorboard<2.16,>=2.15->tensorflow==2.15.0) (2.38.0)\n",
            "Requirement already satisfied: google-auth-oauthlib<2,>=0.5 in /usr/local/lib/python3.11/dist-packages (from tensorboard<2.16,>=2.15->tensorflow==2.15.0) (1.2.1)\n",
            "Requirement already satisfied: markdown>=2.6.8 in /usr/local/lib/python3.11/dist-packages (from tensorboard<2.16,>=2.15->tensorflow==2.15.0) (3.7)\n",
            "Requirement already satisfied: requests<3,>=2.21.0 in /usr/local/lib/python3.11/dist-packages (from tensorboard<2.16,>=2.15->tensorflow==2.15.0) (2.32.3)\n",
            "Requirement already satisfied: tensorboard-data-server<0.8.0,>=0.7.0 in /usr/local/lib/python3.11/dist-packages (from tensorboard<2.16,>=2.15->tensorflow==2.15.0) (0.7.2)\n",
            "Requirement already satisfied: werkzeug>=1.0.1 in /usr/local/lib/python3.11/dist-packages (from tensorboard<2.16,>=2.15->tensorflow==2.15.0) (3.1.3)\n",
            "Requirement already satisfied: cachetools<6.0,>=2.0.0 in /usr/local/lib/python3.11/dist-packages (from google-auth<3,>=1.6.3->tensorboard<2.16,>=2.15->tensorflow==2.15.0) (5.5.2)\n",
            "Requirement already satisfied: pyasn1-modules>=0.2.1 in /usr/local/lib/python3.11/dist-packages (from google-auth<3,>=1.6.3->tensorboard<2.16,>=2.15->tensorflow==2.15.0) (0.4.1)\n",
            "Requirement already satisfied: rsa<5,>=3.1.4 in /usr/local/lib/python3.11/dist-packages (from google-auth<3,>=1.6.3->tensorboard<2.16,>=2.15->tensorflow==2.15.0) (4.9)\n",
            "Requirement already satisfied: requests-oauthlib>=0.7.0 in /usr/local/lib/python3.11/dist-packages (from google-auth-oauthlib<2,>=0.5->tensorboard<2.16,>=2.15->tensorflow==2.15.0) (2.0.0)\n",
            "Requirement already satisfied: charset-normalizer<4,>=2 in /usr/local/lib/python3.11/dist-packages (from requests<3,>=2.21.0->tensorboard<2.16,>=2.15->tensorflow==2.15.0) (3.4.1)\n",
            "Requirement already satisfied: idna<4,>=2.5 in /usr/local/lib/python3.11/dist-packages (from requests<3,>=2.21.0->tensorboard<2.16,>=2.15->tensorflow==2.15.0) (3.10)\n",
            "Requirement already satisfied: urllib3<3,>=1.21.1 in /usr/local/lib/python3.11/dist-packages (from requests<3,>=2.21.0->tensorboard<2.16,>=2.15->tensorflow==2.15.0) (2.3.0)\n",
            "Requirement already satisfied: certifi>=2017.4.17 in /usr/local/lib/python3.11/dist-packages (from requests<3,>=2.21.0->tensorboard<2.16,>=2.15->tensorflow==2.15.0) (2025.1.31)\n",
            "Requirement already satisfied: MarkupSafe>=2.1.1 in /usr/local/lib/python3.11/dist-packages (from werkzeug>=1.0.1->tensorboard<2.16,>=2.15->tensorflow==2.15.0) (3.0.2)\n",
            "Requirement already satisfied: pyasn1<0.7.0,>=0.4.6 in /usr/local/lib/python3.11/dist-packages (from pyasn1-modules>=0.2.1->google-auth<3,>=1.6.3->tensorboard<2.16,>=2.15->tensorflow==2.15.0) (0.6.1)\n",
            "Requirement already satisfied: oauthlib>=3.0.0 in /usr/local/lib/python3.11/dist-packages (from requests-oauthlib>=0.7.0->google-auth-oauthlib<2,>=0.5->tensorboard<2.16,>=2.15->tensorflow==2.15.0) (3.2.2)\n",
            "Downloading tensorflow-2.15.0-cp311-cp311-manylinux_2_17_x86_64.manylinux2014_x86_64.whl (475.3 MB)\n",
            "\u001b[2K   \u001b[90m━━━━━━━━━━━━━━━━━━━━━━━━━━━━━━━━━━━━━━━━\u001b[0m \u001b[32m475.3/475.3 MB\u001b[0m \u001b[31m3.7 MB/s\u001b[0m eta \u001b[36m0:00:00\u001b[0m\n",
            "\u001b[?25hDownloading keras-2.15.0-py3-none-any.whl (1.7 MB)\n",
            "\u001b[2K   \u001b[90m━━━━━━━━━━━━━━━━━━━━━━━━━━━━━━━━━━━━━━━━\u001b[0m \u001b[32m1.7/1.7 MB\u001b[0m \u001b[31m73.4 MB/s\u001b[0m eta \u001b[36m0:00:00\u001b[0m\n",
            "\u001b[?25hDownloading ml_dtypes-0.2.0-cp311-cp311-manylinux_2_17_x86_64.manylinux2014_x86_64.whl (1.0 MB)\n",
            "\u001b[2K   \u001b[90m━━━━━━━━━━━━━━━━━━━━━━━━━━━━━━━━━━━━━━━━\u001b[0m \u001b[32m1.0/1.0 MB\u001b[0m \u001b[31m61.0 MB/s\u001b[0m eta \u001b[36m0:00:00\u001b[0m\n",
            "\u001b[?25hDownloading tensorboard-2.15.2-py3-none-any.whl (5.5 MB)\n",
            "\u001b[2K   \u001b[90m━━━━━━━━━━━━━━━━━━━━━━━━━━━━━━━━━━━━━━━━\u001b[0m \u001b[32m5.5/5.5 MB\u001b[0m \u001b[31m98.7 MB/s\u001b[0m eta \u001b[36m0:00:00\u001b[0m\n",
            "\u001b[?25hDownloading tensorflow_estimator-2.15.0-py2.py3-none-any.whl (441 kB)\n",
            "\u001b[2K   \u001b[90m━━━━━━━━━━━━━━━━━━━━━━━━━━━━━━━━━━━━━━━━\u001b[0m \u001b[32m442.0/442.0 kB\u001b[0m \u001b[31m29.6 MB/s\u001b[0m eta \u001b[36m0:00:00\u001b[0m\n",
            "\u001b[?25hDownloading wrapt-1.14.1-cp311-cp311-manylinux_2_5_x86_64.manylinux1_x86_64.manylinux_2_17_x86_64.manylinux2014_x86_64.whl (78 kB)\n",
            "\u001b[2K   \u001b[90m━━━━━━━━━━━━━━━━━━━━━━━━━━━━━━━━━━━━━━━━\u001b[0m \u001b[32m78.4/78.4 kB\u001b[0m \u001b[31m7.6 MB/s\u001b[0m eta \u001b[36m0:00:00\u001b[0m\n",
            "\u001b[?25hInstalling collected packages: wrapt, tensorflow-estimator, ml-dtypes, keras, tensorboard, tensorflow\n",
            "  Attempting uninstall: wrapt\n",
            "    Found existing installation: wrapt 1.17.2\n",
            "    Uninstalling wrapt-1.17.2:\n",
            "      Successfully uninstalled wrapt-1.17.2\n",
            "  Attempting uninstall: ml-dtypes\n",
            "    Found existing installation: ml-dtypes 0.4.1\n",
            "    Uninstalling ml-dtypes-0.4.1:\n",
            "      Successfully uninstalled ml-dtypes-0.4.1\n",
            "  Attempting uninstall: keras\n",
            "    Found existing installation: keras 3.8.0\n",
            "    Uninstalling keras-3.8.0:\n",
            "      Successfully uninstalled keras-3.8.0\n",
            "  Attempting uninstall: tensorboard\n",
            "    Found existing installation: tensorboard 2.18.0\n",
            "    Uninstalling tensorboard-2.18.0:\n",
            "      Successfully uninstalled tensorboard-2.18.0\n",
            "\u001b[31mERROR: pip's dependency resolver does not currently take into account all the packages that are installed. This behaviour is the source of the following dependency conflicts.\n",
            "tf-keras 2.18.0 requires tensorflow<2.19,>=2.18, but you have tensorflow 2.15.0 which is incompatible.\n",
            "jax 0.5.2 requires ml_dtypes>=0.4.0, but you have ml-dtypes 0.2.0 which is incompatible.\n",
            "tensorflow-text 2.18.1 requires tensorflow<2.19,>=2.18.0, but you have tensorflow 2.15.0 which is incompatible.\n",
            "tensorstore 0.1.72 requires ml_dtypes>=0.3.1, but you have ml-dtypes 0.2.0 which is incompatible.\u001b[0m\u001b[31m\n",
            "\u001b[0mSuccessfully installed keras-2.15.0 ml-dtypes-0.2.0 tensorboard-2.15.2 tensorflow-2.15.0 tensorflow-estimator-2.15.0 wrapt-1.14.1\n"
          ]
        }
      ],
      "source": [
        "!pip uninstall tensorflow -y\n",
        "!pip install tensorflow==2.15.0\n"
      ]
    },
    {
      "cell_type": "code",
      "source": [
        "!pip install tensorflow-addons\n"
      ],
      "metadata": {
        "colab": {
          "base_uri": "https://localhost:8080/"
        },
        "id": "xFP92xMW66eC",
        "outputId": "983f562f-033a-4b1b-eb83-20af68609231"
      },
      "execution_count": 3,
      "outputs": [
        {
          "output_type": "stream",
          "name": "stdout",
          "text": [
            "Collecting tensorflow-addons\n",
            "  Downloading tensorflow_addons-0.23.0-cp311-cp311-manylinux_2_17_x86_64.manylinux2014_x86_64.whl.metadata (1.8 kB)\n",
            "Requirement already satisfied: packaging in /usr/local/lib/python3.11/dist-packages (from tensorflow-addons) (24.2)\n",
            "Collecting typeguard<3.0.0,>=2.7 (from tensorflow-addons)\n",
            "  Downloading typeguard-2.13.3-py3-none-any.whl.metadata (3.6 kB)\n",
            "Downloading tensorflow_addons-0.23.0-cp311-cp311-manylinux_2_17_x86_64.manylinux2014_x86_64.whl (611 kB)\n",
            "\u001b[2K   \u001b[90m━━━━━━━━━━━━━━━━━━━━━━━━━━━━━━━━━━━━━━━━\u001b[0m \u001b[32m611.8/611.8 kB\u001b[0m \u001b[31m6.7 MB/s\u001b[0m eta \u001b[36m0:00:00\u001b[0m\n",
            "\u001b[?25hDownloading typeguard-2.13.3-py3-none-any.whl (17 kB)\n",
            "Installing collected packages: typeguard, tensorflow-addons\n",
            "  Attempting uninstall: typeguard\n",
            "    Found existing installation: typeguard 4.4.2\n",
            "    Uninstalling typeguard-4.4.2:\n",
            "      Successfully uninstalled typeguard-4.4.2\n",
            "\u001b[31mERROR: pip's dependency resolver does not currently take into account all the packages that are installed. This behaviour is the source of the following dependency conflicts.\n",
            "inflect 7.5.0 requires typeguard>=4.0.1, but you have typeguard 2.13.3 which is incompatible.\u001b[0m\u001b[31m\n",
            "\u001b[0mSuccessfully installed tensorflow-addons-0.23.0 typeguard-2.13.3\n"
          ]
        }
      ]
    },
    {
      "cell_type": "code",
      "source": [
        "import numpy as np\n",
        "import tensorflow as tf\n",
        "from tensorflow.keras.models import Sequential\n",
        "from tensorflow.keras.layers import Dense, Dropout, BatchNormalization\n",
        "from tensorflow.keras.optimizers.schedules import ExponentialDecay\n",
        "from tensorflow.keras.callbacks import EarlyStopping, ModelCheckpoint, ReduceLROnPlateau\n",
        "from tensorflow.keras.utils import to_categorical\n",
        "import tensorflow_addons as tfa\n",
        "from tensorflow_addons.optimizers import AdaBelief\n",
        "from sklearn.model_selection import train_test_split\n",
        "from sklearn.preprocessing import StandardScaler\n",
        "from sklearn.metrics import accuracy_score, classification_report\n",
        "import matplotlib.pyplot as plt\n",
        "import seaborn as sns\n",
        "from google.colab import drive\n",
        "import pandas as pd"
      ],
      "metadata": {
        "colab": {
          "base_uri": "https://localhost:8080/"
        },
        "id": "THrqSuO058hb",
        "outputId": "24691297-03c4-4608-9adf-3e0e9f67634b"
      },
      "execution_count": 4,
      "outputs": [
        {
          "output_type": "stream",
          "name": "stderr",
          "text": [
            "/usr/local/lib/python3.11/dist-packages/tensorflow_addons/utils/tfa_eol_msg.py:23: UserWarning: \n",
            "\n",
            "TensorFlow Addons (TFA) has ended development and introduction of new features.\n",
            "TFA has entered a minimal maintenance and release mode until a planned end of life in May 2024.\n",
            "Please modify downstream libraries to take dependencies from other repositories in our TensorFlow community (e.g. Keras, Keras-CV, and Keras-NLP). \n",
            "\n",
            "For more information see: https://github.com/tensorflow/addons/issues/2807 \n",
            "\n",
            "  warnings.warn(\n"
          ]
        }
      ]
    },
    {
      "cell_type": "code",
      "source": [
        "# Mount Google Drive\n",
        "drive.mount('/content/drive')\n",
        "\n",
        "# Path to your file on Google Drive\n",
        "file_path = '/content/drive/My Drive/output_file.csv'  # Replace with your file's path\n",
        "\n",
        "# Read the CSV file into a pandas DataFrame\n",
        "data = pd.read_csv(file_path)\n",
        "\n",
        "# Display the first few rows of the data to verify it loaded correctly\n",
        "print(data.head())"
      ],
      "metadata": {
        "colab": {
          "base_uri": "https://localhost:8080/"
        },
        "id": "IR9AXxbo6GF4",
        "outputId": "3422ba87-b0ff-49d4-c9e1-33edc75425dd"
      },
      "execution_count": 5,
      "outputs": [
        {
          "output_type": "stream",
          "name": "stdout",
          "text": [
            "Mounted at /content/drive\n",
            "   id   age  gender  height  weight  ap_hi  ap_lo  cholesterol  gluc  smoke  \\\n",
            "0   0  50.0       2     168    62.0    110     80            1     1      0   \n",
            "1   1  55.0       1     156    85.0    140     90            3     1      0   \n",
            "2   2  52.0       1     165    64.0    130     70            3     1      0   \n",
            "3   3  48.0       2     169    82.0    150    100            1     1      0   \n",
            "4   4  48.0       1     156    56.0    100     60            1     1      0   \n",
            "\n",
            "   alco  active  cardio  \n",
            "0     0       1       0  \n",
            "1     0       1       1  \n",
            "2     0       0       1  \n",
            "3     0       1       1  \n",
            "4     0       0       0  \n"
          ]
        }
      ]
    },
    {
      "cell_type": "code",
      "source": [
        "# Rename columns\n",
        "data.columns = ['id', 'age', 'gender', 'height', 'weight', 'ap_hi', 'ap_lo','cholesterol', 'gluc', 'smoke', 'alco', 'active', 'cardio']"
      ],
      "metadata": {
        "id": "OpXQvAfk6QnQ"
      },
      "execution_count": 6,
      "outputs": []
    },
    {
      "cell_type": "code",
      "source": [
        "# Step 1: Data Preparation\n",
        "X = np.array(data.drop(['cardio'], axis=1))  # Features\n",
        "y = np.array(data['cardio'])  # Target"
      ],
      "metadata": {
        "id": "ddqjzUQ16RTw"
      },
      "execution_count": 7,
      "outputs": []
    },
    {
      "cell_type": "code",
      "source": [
        "# Standardizing the data\n",
        "mean = X.mean(axis=0)\n",
        "X -= mean\n",
        "std = X.std(axis=0)\n",
        "X /= std"
      ],
      "metadata": {
        "id": "aGIAmLrk6TZI"
      },
      "execution_count": 8,
      "outputs": []
    },
    {
      "cell_type": "code",
      "source": [
        "# Step 2: Split the data into training and test sets\n",
        "from sklearn.model_selection import train_test_split\n",
        "X_train, X_test, y_train, y_test = train_test_split(X, y, random_state=42, test_size=0.2)"
      ],
      "metadata": {
        "id": "4VVfRYc86V6o"
      },
      "execution_count": 9,
      "outputs": []
    },
    {
      "cell_type": "code",
      "source": [
        "# Convert target variable into categorical labels\n",
        "Y_train = to_categorical(y_train, num_classes=None)\n",
        "Y_test = to_categorical(y_test, num_classes=None)\n",
        "print (Y_train.shape)\n",
        "print (Y_train[:10])"
      ],
      "metadata": {
        "colab": {
          "base_uri": "https://localhost:8080/"
        },
        "id": "Rij27HE56a-g",
        "outputId": "e5402b7f-5a0a-43c4-e2e7-d9f33f52dece"
      },
      "execution_count": 10,
      "outputs": [
        {
          "output_type": "stream",
          "name": "stdout",
          "text": [
            "(56000, 2)\n",
            "[[0. 1.]\n",
            " [0. 1.]\n",
            " [0. 1.]\n",
            " [0. 1.]\n",
            " [1. 0.]\n",
            " [0. 1.]\n",
            " [1. 0.]\n",
            " [0. 1.]\n",
            " [0. 1.]\n",
            " [0. 1.]]\n"
          ]
        }
      ]
    },
    {
      "cell_type": "code",
      "source": [
        "# Build the model\n",
        "model = Sequential()\n",
        "model.add(Dense(128, input_dim=X_train.shape[1], kernel_initializer='normal', activation='relu'))\n",
        "model.add(BatchNormalization())\n",
        "model.add(Dropout(0.3))\n",
        "\n",
        "model.add(Dense(64, kernel_initializer='normal', activation='relu'))\n",
        "model.add(BatchNormalization())\n",
        "model.add(Dropout(0.3))\n",
        "\n",
        "model.add(Dense(32, activation='relu'))\n",
        "model.add(BatchNormalization())\n",
        "model.add(Dropout(0.3))\n",
        "\n",
        "model.add(Dense(8, activation='softmax'))\n",
        "model.add(Dropout(0.3))\n",
        "\n",
        "model.add(Dense(2, activation='sigmoid'))  # Final layer for binary classification\n",
        "\n",
        "model.compile(optimizer=AdaBelief(learning_rate=0.001),\n",
        "              loss='categorical_crossentropy',\n",
        "              metrics=['accuracy'])\n",
        "\n",
        "# Early stopping to avoid overfitting\n",
        "es = EarlyStopping(monitor='val_loss', mode='min', verbose=1, patience=20)\n",
        "\n",
        "# Fit the model\n",
        "history = model.fit(X_train, Y_train, epochs=100, batch_size=32,\n",
        "                    validation_data=(X_test, Y_test),\n",
        "                    callbacks=[es], verbose=1)\n"
      ],
      "metadata": {
        "colab": {
          "base_uri": "https://localhost:8080/"
        },
        "id": "VpT2JoCJ9-Ov",
        "outputId": "b6afbc56-1595-4b45-941f-154e59d2e593"
      },
      "execution_count": 12,
      "outputs": [
        {
          "output_type": "stream",
          "name": "stdout",
          "text": [
            "Epoch 1/100\n",
            "1750/1750 [==============================] - 13s 4ms/step - loss: 0.6367 - accuracy: 0.6378 - val_loss: 0.5755 - val_accuracy: 0.7197\n",
            "Epoch 2/100\n",
            "1750/1750 [==============================] - 8s 5ms/step - loss: 0.5925 - accuracy: 0.7056 - val_loss: 0.5634 - val_accuracy: 0.7299\n",
            "Epoch 3/100\n",
            "1750/1750 [==============================] - 6s 4ms/step - loss: 0.5802 - accuracy: 0.7150 - val_loss: 0.5534 - val_accuracy: 0.7331\n",
            "Epoch 4/100\n",
            "1750/1750 [==============================] - 10s 6ms/step - loss: 0.5738 - accuracy: 0.7180 - val_loss: 0.5484 - val_accuracy: 0.7389\n",
            "Epoch 5/100\n",
            "1750/1750 [==============================] - 14s 8ms/step - loss: 0.5720 - accuracy: 0.7203 - val_loss: 0.5485 - val_accuracy: 0.7360\n",
            "Epoch 6/100\n",
            "1750/1750 [==============================] - 6s 4ms/step - loss: 0.5700 - accuracy: 0.7214 - val_loss: 0.5512 - val_accuracy: 0.7341\n",
            "Epoch 7/100\n",
            "1750/1750 [==============================] - 8s 5ms/step - loss: 0.5722 - accuracy: 0.7205 - val_loss: 0.5472 - val_accuracy: 0.7370\n",
            "Epoch 8/100\n",
            "1750/1750 [==============================] - 6s 4ms/step - loss: 0.5676 - accuracy: 0.7205 - val_loss: 0.5483 - val_accuracy: 0.7376\n",
            "Epoch 9/100\n",
            "1750/1750 [==============================] - 8s 5ms/step - loss: 0.5682 - accuracy: 0.7215 - val_loss: 0.5477 - val_accuracy: 0.7389\n",
            "Epoch 10/100\n",
            "1750/1750 [==============================] - 6s 4ms/step - loss: 0.5681 - accuracy: 0.7230 - val_loss: 0.5478 - val_accuracy: 0.7410\n",
            "Epoch 11/100\n",
            "1750/1750 [==============================] - 8s 5ms/step - loss: 0.5670 - accuracy: 0.7237 - val_loss: 0.5519 - val_accuracy: 0.7338\n",
            "Epoch 12/100\n",
            "1750/1750 [==============================] - 6s 4ms/step - loss: 0.5662 - accuracy: 0.7239 - val_loss: 0.5462 - val_accuracy: 0.7386\n",
            "Epoch 13/100\n",
            "1750/1750 [==============================] - 8s 5ms/step - loss: 0.5654 - accuracy: 0.7249 - val_loss: 0.5501 - val_accuracy: 0.7401\n",
            "Epoch 14/100\n",
            "1750/1750 [==============================] - 6s 4ms/step - loss: 0.5663 - accuracy: 0.7240 - val_loss: 0.5456 - val_accuracy: 0.7398\n",
            "Epoch 15/100\n",
            "1750/1750 [==============================] - 8s 4ms/step - loss: 0.5653 - accuracy: 0.7234 - val_loss: 0.5503 - val_accuracy: 0.7341\n",
            "Epoch 16/100\n",
            "1750/1750 [==============================] - 7s 4ms/step - loss: 0.5661 - accuracy: 0.7261 - val_loss: 0.5498 - val_accuracy: 0.7374\n",
            "Epoch 17/100\n",
            "1750/1750 [==============================] - 7s 4ms/step - loss: 0.5644 - accuracy: 0.7248 - val_loss: 0.5493 - val_accuracy: 0.7385\n",
            "Epoch 18/100\n",
            "1750/1750 [==============================] - 7s 4ms/step - loss: 0.5644 - accuracy: 0.7248 - val_loss: 0.5459 - val_accuracy: 0.7402\n",
            "Epoch 19/100\n",
            "1750/1750 [==============================] - 8s 4ms/step - loss: 0.5639 - accuracy: 0.7239 - val_loss: 0.5509 - val_accuracy: 0.7349\n",
            "Epoch 20/100\n",
            "1750/1750 [==============================] - 7s 4ms/step - loss: 0.5641 - accuracy: 0.7267 - val_loss: 0.5539 - val_accuracy: 0.7349\n",
            "Epoch 21/100\n",
            "1750/1750 [==============================] - 7s 4ms/step - loss: 0.5629 - accuracy: 0.7271 - val_loss: 0.5492 - val_accuracy: 0.7392\n",
            "Epoch 22/100\n",
            "1750/1750 [==============================] - 7s 4ms/step - loss: 0.5636 - accuracy: 0.7241 - val_loss: 0.5511 - val_accuracy: 0.7395\n",
            "Epoch 23/100\n",
            "1750/1750 [==============================] - 7s 4ms/step - loss: 0.5631 - accuracy: 0.7261 - val_loss: 0.5479 - val_accuracy: 0.7397\n",
            "Epoch 24/100\n",
            "1750/1750 [==============================] - 8s 5ms/step - loss: 0.5624 - accuracy: 0.7264 - val_loss: 0.5469 - val_accuracy: 0.7391\n",
            "Epoch 25/100\n",
            "1750/1750 [==============================] - 7s 4ms/step - loss: 0.5629 - accuracy: 0.7262 - val_loss: 0.5518 - val_accuracy: 0.7362\n",
            "Epoch 26/100\n",
            "1750/1750 [==============================] - 8s 5ms/step - loss: 0.5625 - accuracy: 0.7268 - val_loss: 0.5525 - val_accuracy: 0.7366\n",
            "Epoch 27/100\n",
            "1750/1750 [==============================] - 6s 4ms/step - loss: 0.5640 - accuracy: 0.7247 - val_loss: 0.5462 - val_accuracy: 0.7391\n",
            "Epoch 28/100\n",
            "1750/1750 [==============================] - 9s 5ms/step - loss: 0.5631 - accuracy: 0.7272 - val_loss: 0.5527 - val_accuracy: 0.7339\n",
            "Epoch 29/100\n",
            "1750/1750 [==============================] - 6s 4ms/step - loss: 0.5623 - accuracy: 0.7256 - val_loss: 0.5526 - val_accuracy: 0.7365\n",
            "Epoch 30/100\n",
            "1750/1750 [==============================] - 8s 5ms/step - loss: 0.5614 - accuracy: 0.7267 - val_loss: 0.5496 - val_accuracy: 0.7373\n",
            "Epoch 31/100\n",
            "1750/1750 [==============================] - 6s 4ms/step - loss: 0.5616 - accuracy: 0.7261 - val_loss: 0.5453 - val_accuracy: 0.7350\n",
            "Epoch 32/100\n",
            "1750/1750 [==============================] - 8s 5ms/step - loss: 0.5625 - accuracy: 0.7267 - val_loss: 0.5491 - val_accuracy: 0.7369\n",
            "Epoch 33/100\n",
            "1750/1750 [==============================] - 6s 4ms/step - loss: 0.5594 - accuracy: 0.7278 - val_loss: 0.5455 - val_accuracy: 0.7349\n",
            "Epoch 34/100\n",
            "1750/1750 [==============================] - 9s 5ms/step - loss: 0.5617 - accuracy: 0.7272 - val_loss: 0.5471 - val_accuracy: 0.7363\n",
            "Epoch 35/100\n",
            "1750/1750 [==============================] - 6s 4ms/step - loss: 0.5593 - accuracy: 0.7291 - val_loss: 0.5450 - val_accuracy: 0.7364\n",
            "Epoch 36/100\n",
            "1750/1750 [==============================] - 8s 5ms/step - loss: 0.5616 - accuracy: 0.7256 - val_loss: 0.5480 - val_accuracy: 0.7357\n",
            "Epoch 37/100\n",
            "1750/1750 [==============================] - 7s 4ms/step - loss: 0.5607 - accuracy: 0.7279 - val_loss: 0.5446 - val_accuracy: 0.7383\n",
            "Epoch 38/100\n",
            "1750/1750 [==============================] - 8s 5ms/step - loss: 0.5609 - accuracy: 0.7271 - val_loss: 0.5460 - val_accuracy: 0.7399\n",
            "Epoch 39/100\n",
            "1750/1750 [==============================] - 7s 4ms/step - loss: 0.5617 - accuracy: 0.7282 - val_loss: 0.5491 - val_accuracy: 0.7329\n",
            "Epoch 40/100\n",
            "1750/1750 [==============================] - 7s 4ms/step - loss: 0.5600 - accuracy: 0.7272 - val_loss: 0.5545 - val_accuracy: 0.7354\n",
            "Epoch 41/100\n",
            "1750/1750 [==============================] - 7s 4ms/step - loss: 0.5600 - accuracy: 0.7278 - val_loss: 0.5473 - val_accuracy: 0.7365\n",
            "Epoch 42/100\n",
            "1750/1750 [==============================] - 7s 4ms/step - loss: 0.5610 - accuracy: 0.7279 - val_loss: 0.5510 - val_accuracy: 0.7319\n",
            "Epoch 43/100\n",
            "1750/1750 [==============================] - 7s 4ms/step - loss: 0.5604 - accuracy: 0.7283 - val_loss: 0.5485 - val_accuracy: 0.7346\n",
            "Epoch 44/100\n",
            "1750/1750 [==============================] - 7s 4ms/step - loss: 0.5605 - accuracy: 0.7272 - val_loss: 0.5460 - val_accuracy: 0.7376\n",
            "Epoch 45/100\n",
            "1750/1750 [==============================] - 7s 4ms/step - loss: 0.5601 - accuracy: 0.7296 - val_loss: 0.5541 - val_accuracy: 0.7325\n",
            "Epoch 46/100\n",
            "1750/1750 [==============================] - 8s 4ms/step - loss: 0.5603 - accuracy: 0.7278 - val_loss: 0.5456 - val_accuracy: 0.7337\n",
            "Epoch 47/100\n",
            "1750/1750 [==============================] - 9s 5ms/step - loss: 0.5602 - accuracy: 0.7285 - val_loss: 0.5433 - val_accuracy: 0.7384\n",
            "Epoch 48/100\n",
            "1750/1750 [==============================] - 6s 4ms/step - loss: 0.5598 - accuracy: 0.7267 - val_loss: 0.5462 - val_accuracy: 0.7358\n",
            "Epoch 49/100\n",
            "1750/1750 [==============================] - 9s 5ms/step - loss: 0.5588 - accuracy: 0.7288 - val_loss: 0.5445 - val_accuracy: 0.7358\n",
            "Epoch 50/100\n",
            "1750/1750 [==============================] - 7s 4ms/step - loss: 0.5591 - accuracy: 0.7293 - val_loss: 0.5469 - val_accuracy: 0.7365\n",
            "Epoch 51/100\n",
            "1750/1750 [==============================] - 8s 5ms/step - loss: 0.5585 - accuracy: 0.7277 - val_loss: 0.5464 - val_accuracy: 0.7380\n",
            "Epoch 52/100\n",
            "1750/1750 [==============================] - 7s 4ms/step - loss: 0.5582 - accuracy: 0.7281 - val_loss: 0.5493 - val_accuracy: 0.7345\n",
            "Epoch 53/100\n",
            "1750/1750 [==============================] - 8s 5ms/step - loss: 0.5588 - accuracy: 0.7300 - val_loss: 0.5439 - val_accuracy: 0.7376\n",
            "Epoch 54/100\n",
            "1750/1750 [==============================] - 7s 4ms/step - loss: 0.5601 - accuracy: 0.7297 - val_loss: 0.5459 - val_accuracy: 0.7349\n",
            "Epoch 55/100\n",
            "1750/1750 [==============================] - 8s 4ms/step - loss: 0.5586 - accuracy: 0.7289 - val_loss: 0.5444 - val_accuracy: 0.7384\n",
            "Epoch 56/100\n",
            "1750/1750 [==============================] - 8s 5ms/step - loss: 0.5599 - accuracy: 0.7282 - val_loss: 0.5504 - val_accuracy: 0.7356\n",
            "Epoch 57/100\n",
            "1750/1750 [==============================] - 7s 4ms/step - loss: 0.5596 - accuracy: 0.7289 - val_loss: 0.5472 - val_accuracy: 0.7366\n",
            "Epoch 58/100\n",
            "1750/1750 [==============================] - 8s 5ms/step - loss: 0.5593 - accuracy: 0.7284 - val_loss: 0.5444 - val_accuracy: 0.7394\n",
            "Epoch 59/100\n",
            "1750/1750 [==============================] - 6s 4ms/step - loss: 0.5598 - accuracy: 0.7290 - val_loss: 0.5478 - val_accuracy: 0.7369\n",
            "Epoch 60/100\n",
            "1750/1750 [==============================] - 9s 5ms/step - loss: 0.5583 - accuracy: 0.7301 - val_loss: 0.5487 - val_accuracy: 0.7364\n",
            "Epoch 61/100\n",
            "1750/1750 [==============================] - 7s 4ms/step - loss: 0.5584 - accuracy: 0.7294 - val_loss: 0.5514 - val_accuracy: 0.7359\n",
            "Epoch 62/100\n",
            "1750/1750 [==============================] - 9s 5ms/step - loss: 0.5585 - accuracy: 0.7274 - val_loss: 0.5464 - val_accuracy: 0.7363\n",
            "Epoch 63/100\n",
            "1750/1750 [==============================] - 6s 4ms/step - loss: 0.5583 - accuracy: 0.7285 - val_loss: 0.5521 - val_accuracy: 0.7344\n",
            "Epoch 64/100\n",
            "1750/1750 [==============================] - 11s 6ms/step - loss: 0.5579 - accuracy: 0.7285 - val_loss: 0.5484 - val_accuracy: 0.7353\n",
            "Epoch 65/100\n",
            "1750/1750 [==============================] - 10s 6ms/step - loss: 0.5573 - accuracy: 0.7287 - val_loss: 0.5504 - val_accuracy: 0.7366\n",
            "Epoch 66/100\n",
            "1750/1750 [==============================] - 6s 4ms/step - loss: 0.5588 - accuracy: 0.7290 - val_loss: 0.5493 - val_accuracy: 0.7349\n",
            "Epoch 67/100\n",
            "1750/1750 [==============================] - 8s 5ms/step - loss: 0.5594 - accuracy: 0.7273 - val_loss: 0.5515 - val_accuracy: 0.7325\n",
            "Epoch 67: early stopping\n"
          ]
        }
      ]
    },
    {
      "cell_type": "code",
      "source": [
        "# Get predictions and evaluate the model\n",
        "categorical_pred = np.argmax(model.predict(X_test), axis=1)\n",
        "y_test_int = np.argmax(Y_test, axis=1)\n",
        "\n",
        "# Print results\n",
        "print('Results for Categorical Model')\n",
        "print(f\"Accuracy: {accuracy_score(y_test_int, categorical_pred)}\")\n",
        "print(classification_report(y_test_int, categorical_pred))"
      ],
      "metadata": {
        "colab": {
          "base_uri": "https://localhost:8080/"
        },
        "id": "E5e20mUX-Q0Y",
        "outputId": "07c1e128-45cc-422d-9a8c-98c126fc1213"
      },
      "execution_count": 13,
      "outputs": [
        {
          "output_type": "stream",
          "name": "stdout",
          "text": [
            "438/438 [==============================] - 1s 2ms/step\n",
            "Results for Categorical Model\n",
            "Accuracy: 0.7325\n",
            "              precision    recall  f1-score   support\n",
            "\n",
            "           0       0.74      0.72      0.73      6988\n",
            "           1       0.73      0.74      0.74      7012\n",
            "\n",
            "    accuracy                           0.73     14000\n",
            "   macro avg       0.73      0.73      0.73     14000\n",
            "weighted avg       0.73      0.73      0.73     14000\n",
            "\n"
          ]
        }
      ]
    },
    {
      "cell_type": "code",
      "source": [
        "import matplotlib.pyplot as plt\n",
        "%matplotlib inline\n",
        "# Model accuracy\n",
        "plt.plot(history.history['accuracy'])\n",
        "plt.plot(history.history['val_accuracy'])\n",
        "plt.title('Model Accuracy')\n",
        "plt.ylabel('accuracy')\n",
        "plt.xlabel('epoch')\n",
        "plt.legend(['train', 'test'])\n",
        "plt.show()"
      ],
      "metadata": {
        "colab": {
          "base_uri": "https://localhost:8080/",
          "height": 472
        },
        "id": "1OOy_XjA7yRf",
        "outputId": "3ce57047-bd4b-4431-c1f5-55f98fd32004"
      },
      "execution_count": 14,
      "outputs": [
        {
          "output_type": "display_data",
          "data": {
            "text/plain": [
              "<Figure size 640x480 with 1 Axes>"
            ],
            "image/png": "[encoded data removed]"
          },
          "metadata": {}
        }
      ]
    },
    {
      "cell_type": "code",
      "source": [
        "# Model Losss\n",
        "plt.plot(history.history['loss'])\n",
        "plt.plot(history.history['val_loss'])\n",
        "plt.title('Model Loss')\n",
        "plt.ylabel('loss')\n",
        "plt.xlabel('epoch')\n",
        "plt.legend(['train','test'])\n",
        "plt.show()"
      ],
      "metadata": {
        "colab": {
          "base_uri": "https://localhost:8080/",
          "height": 472
        },
        "id": "CQcXqg9v703g",
        "outputId": "255ff6b0-b26d-40e3-bec7-6b1b1077f63b"
      },
      "execution_count": 15,
      "outputs": [
        {
          "output_type": "display_data",
          "data": {
            "text/plain": [
              "<Figure size 640x480 with 1 Axes>"
            ],
            "image/png": "[encoded data removed]"
          },
          "metadata": {}
        }
      ]
    }
  ]
}